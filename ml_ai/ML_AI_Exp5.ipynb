{
  "nbformat": 4,
  "nbformat_minor": 0,
  "metadata": {
    "kernelspec": {
      "display_name": "Python 3",
      "language": "python",
      "name": "python3"
    },
    "language_info": {
      "codemirror_mode": {
        "name": "ipython",
        "version": 3
      },
      "file_extension": ".py",
      "mimetype": "text/x-python",
      "name": "python",
      "nbconvert_exporter": "python",
      "pygments_lexer": "ipython3",
      "version": "3.7.3"
    },
    "colab": {
      "name": "ML_AI_Exp5.ipynb",
      "provenance": []
    }
  },
  "cells": [
    {
      "cell_type": "code",
      "metadata": {
        "id": "advRu7Pjais0"
      },
      "source": [
        "# Importing important libraries\n",
        "import pandas as pd\n",
        "from sklearn.tree import DecisionTreeClassifier\n",
        "from sklearn.model_selection import train_test_split \n",
        "from sklearn import metrics\n",
        "import matplotlib.pyplot as plt\n",
        "import numpy as np\n",
        "import seaborn as sns\n",
        "import math"
      ],
      "execution_count": 1,
      "outputs": []
    },
    {
      "cell_type": "code",
      "metadata": {
        "colab": {
          "base_uri": "https://localhost:8080/"
        },
        "id": "HL_kdG2Yais2",
        "outputId": "f77d5487-853c-4b94-80df-e073ff5ea7ad"
      },
      "source": [
        "import csv\n",
        "def load_csv(file):\n",
        "    lines = csv.reader(open(file, 'rt'))\n",
        "    dataset = list(lines)\n",
        "    for i in range(len(dataset)):\n",
        "        dataset[i] = [float(x) for x in dataset[i]]\n",
        "    return dataset\n",
        "\n",
        "file = \"diabetes.csv\"\n",
        "dataset = load_csv(file)\n",
        "print('Loaded data from {0} with {1} rows'.format(file, len(dataset)))"
      ],
      "execution_count": 2,
      "outputs": [
        {
          "output_type": "stream",
          "name": "stdout",
          "text": [
            "Loaded data from diabetes.csv with 769 rows\n"
          ]
        }
      ]
    },
    {
      "cell_type": "code",
      "metadata": {
        "colab": {
          "base_uri": "https://localhost:8080/"
        },
        "id": "oTGjES2Jais4",
        "outputId": "3d5349c5-bff1-4fb8-fbbc-fb3406ea7d4d"
      },
      "source": [
        "from random import randrange\n",
        "def partition_data(dataset, ratio):\n",
        "    train_size = int(len(dataset) * ratio)\n",
        "    test_set = list(dataset)\n",
        "    train_set = []\n",
        "    \n",
        "    while len(train_set) < train_size:\n",
        "        index = randrange(len(test_set))\n",
        "        train_set.append(test_set.pop(index))\n",
        "        \n",
        "    return [train_set, test_set]\n",
        "\n",
        "train_set, test_set = partition_data(dataset, 0.67)\n",
        "print('Split total data ({0} rows) into training set ({1} rows) and testing set ({2} rows)'.format(len(dataset), len(train_set), len(test_set)))\n",
        "    "
      ],
      "execution_count": 3,
      "outputs": [
        {
          "output_type": "stream",
          "name": "stdout",
          "text": [
            "Split total data (769 rows) into training set (515 rows) and testing set (254 rows)\n"
          ]
        }
      ]
    },
    {
      "cell_type": "code",
      "metadata": {
        "colab": {
          "base_uri": "https://localhost:8080/"
        },
        "id": "WWAF8LkBais4",
        "outputId": "9d0331bc-cd82-4cbd-b705-1d9c5f70f54b"
      },
      "source": [
        "def group_by_class(dataset):\n",
        "    klass_map = {}\n",
        "    for el in dataset:\n",
        "        klass = int(el[-1])\n",
        "        if klass not in klass_map:\n",
        "            klass_map[klass] = []\n",
        "        klass_map[klass].append(el[:-1])\n",
        "    return klass_map\n",
        "\n",
        "classified_set = group_by_class(train_set)\n",
        "\n",
        "for klass, data_points in classified_set.items():\n",
        "    print('Class {0} contains {1} data points'.format(klass, len(data_points)))"
      ],
      "execution_count": 4,
      "outputs": [
        {
          "output_type": "stream",
          "name": "stdout",
          "text": [
            "Class 0 contains 334 data points\n",
            "Class 1 contains 181 data points\n"
          ]
        }
      ]
    },
    {
      "cell_type": "code",
      "metadata": {
        "id": "K4U6jnY7ais5"
      },
      "source": [
        "def mean(n):\n",
        "    return sum(n) / float(len(n))\n",
        "\n",
        "def stdev(n):\n",
        "    average = mean(n)\n",
        "    return math.sqrt(sum([pow(x - average, 2) for x in n]) / float(len(n) - 1))"
      ],
      "execution_count": 5,
      "outputs": []
    },
    {
      "cell_type": "code",
      "metadata": {
        "colab": {
          "base_uri": "https://localhost:8080/"
        },
        "id": "osKv7h6Aais5",
        "outputId": "9cb6c49a-c6d3-440d-cba3-f19a650b49e4"
      },
      "source": [
        "import multiprocessing as mp\n",
        "\n",
        "def format_calc(t):\n",
        "    return (mean(t), stdev(t))\n",
        "\n",
        "def prepare_data(dataset):\n",
        "    pool = mp.Pool(mp.cpu_count())\n",
        "    summary = {}\n",
        "    for klass, data_points in dataset.items():\n",
        "        summary[klass] = pool.map(format_calc, zip(*data_points))\n",
        "    pool.close()\n",
        "    pool.join()\n",
        "    return summary\n",
        "\n",
        "summary_set = prepare_data(classified_set)\n",
        "\n",
        "for klass, tupl in summary_set.items():\n",
        "    print('Class {0} contains {1} tuples'.format(klass, len(tupl)))"
      ],
      "execution_count": 6,
      "outputs": [
        {
          "output_type": "stream",
          "name": "stdout",
          "text": [
            "Class 0 contains 8 tuples\n",
            "Class 1 contains 8 tuples\n"
          ]
        }
      ]
    },
    {
      "cell_type": "code",
      "metadata": {
        "id": "b5728JLuais5"
      },
      "source": [
        "def gauss(x, mean, stdev):\n",
        "    ex = math.exp(-(math.pow(x - mean, 2) / (2 * math.pow(stdev, 2))))\n",
        "    return (1 / (math.sqrt(2 * math.pi) * stdev)) * ex"
      ],
      "execution_count": 7,
      "outputs": []
    },
    {
      "cell_type": "code",
      "metadata": {
        "id": "lNyvSA7Iais6"
      },
      "source": [
        "def predict(summary_set, data_point):\n",
        "    probabilities = {}\n",
        "    for klass, summary in summary_set.items():\n",
        "        probabilities[klass] = 1\n",
        "        for i in range(len(summary)):\n",
        "            mean, stdev = summary[i]\n",
        "            probabilities[klass] *= gauss(data_point[i], mean, stdev)\n",
        "    return max(probabilities.keys(), key=(lambda key: probabilities[key]))"
      ],
      "execution_count": 8,
      "outputs": []
    },
    {
      "cell_type": "code",
      "metadata": {
        "colab": {
          "base_uri": "https://localhost:8080/"
        },
        "id": "sdcbqmGaais6",
        "outputId": "bc274901-e90e-4a19-b0a1-b8ba19547282"
      },
      "source": [
        "def get_accuracy(summary_set, test_set):\n",
        "    correct_count = 0\n",
        "    for test_point in test_set:\n",
        "        if test_point[-1] == predict(summary_set, test_point):\n",
        "            correct_count += 1\n",
        "    return correct_count / float(len(test_set)) * 100\n",
        "\n",
        "accuracy = get_accuracy(summary_set, test_set)\n",
        "\n",
        "print('The Naive-Bayes Model yields {0}% accuracy'.format(round(accuracy, 2)))"
      ],
      "execution_count": 10,
      "outputs": [
        {
          "output_type": "stream",
          "name": "stdout",
          "text": [
            "The Naive-Bayes Model yields 72.83% accuracy\n"
          ]
        }
      ]
    },
    {
      "cell_type": "code",
      "metadata": {
        "id": "Y4p80Mzoais7"
      },
      "source": [
        ""
      ],
      "execution_count": null,
      "outputs": []
    }
  ]
}