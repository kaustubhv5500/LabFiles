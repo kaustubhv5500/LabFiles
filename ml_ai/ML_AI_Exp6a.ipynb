{
  "nbformat": 4,
  "nbformat_minor": 0,
  "metadata": {
    "kernelspec": {
      "display_name": "Python 3",
      "language": "python",
      "name": "python3"
    },
    "language_info": {
      "codemirror_mode": {
        "name": "ipython",
        "version": 3
      },
      "file_extension": ".py",
      "mimetype": "text/x-python",
      "name": "python",
      "nbconvert_exporter": "python",
      "pygments_lexer": "ipython3",
      "version": "3.7.3"
    },
    "colab": {
      "name": "ML_AI_Exp6a.ipynb",
      "provenance": []
    }
  },
  "cells": [
    {
      "cell_type": "code",
      "metadata": {
        "id": "GimQt5ziaRY_"
      },
      "source": [
        "# Importing important libraries\n",
        "import pandas as pd\n",
        "from sklearn.model_selection import train_test_split \n",
        "from sklearn import metrics\n",
        "from sklearn.metrics import plot_confusion_matrix\n",
        "import matplotlib.pyplot as plt\n",
        "import numpy as np\n",
        "import seaborn as sns\n",
        "import math"
      ],
      "execution_count": 1,
      "outputs": []
    },
    {
      "cell_type": "code",
      "metadata": {
        "id": "1bREwjwKaRZF"
      },
      "source": [
        "# Loading the breast cancer dataset\n",
        "from sklearn.datasets import load_breast_cancer\n",
        "dataset = load_breast_cancer()\n",
        "X = dataset['data']\n",
        "y = dataset['target']"
      ],
      "execution_count": 2,
      "outputs": []
    },
    {
      "cell_type": "code",
      "metadata": {
        "id": "T9Xg2kytaRZH"
      },
      "source": [
        "# Splitting the dataset 80-20:train-test\n",
        "X_train, X_test, y_train, y_test = train_test_split(X, y, test_size=0.2, random_state=1)"
      ],
      "execution_count": 3,
      "outputs": []
    },
    {
      "cell_type": "code",
      "metadata": {
        "colab": {
          "base_uri": "https://localhost:8080/"
        },
        "id": "g5zeKGRvaRZI",
        "outputId": "7ddd2ba1-2aac-4fe7-f93a-75845af83bcb"
      },
      "source": [
        "from sklearn.naive_bayes import GaussianNB\n",
        "clf = GaussianNB()\n",
        "clf.fit(X_train,y_train)"
      ],
      "execution_count": 4,
      "outputs": [
        {
          "output_type": "execute_result",
          "data": {
            "text/plain": [
              "GaussianNB(priors=None, var_smoothing=1e-09)"
            ]
          },
          "metadata": {},
          "execution_count": 4
        }
      ]
    },
    {
      "cell_type": "code",
      "metadata": {
        "colab": {
          "base_uri": "https://localhost:8080/",
          "height": 371
        },
        "id": "CqSvgk6caRZK",
        "outputId": "be1df94f-b10c-4968-844f-aab77bdefc99"
      },
      "source": [
        "# Calculating model parameters\n",
        "pred = clf.predict(X_test)\n",
        "correct_pred = 0\n",
        "true_pos = 0\n",
        "true_neg = 0\n",
        "false_pos = 0\n",
        "false_neg = 0\n",
        "\n",
        "for i in range(len(pred)):\n",
        "    if pred[i] == y_test[i]:\n",
        "        correct_pred += 1\n",
        "    if pred[i] == 1 and y_test[i] == 1:\n",
        "        true_pos += 1\n",
        "    if pred[i] == 0 and y_test[i] == 0:\n",
        "        true_neg += 1\n",
        "    if pred[i] == 0 and y_test[i] == 1:\n",
        "        false_neg += 1\n",
        "    if pred[i] == 1 and y_test[i] == 0:\n",
        "        false_pos +=1\n",
        "        \n",
        "accuracy = correct_pred/len(y_test)\n",
        "precision = true_pos/(true_pos + false_pos)\n",
        "recall = true_pos/(true_pos + false_neg)\n",
        "\n",
        "print('Accuracy of the Naive Bayes Model: ', accuracy * 100, '%')\n",
        "print('Precision of the Naive Bayes Model: ', precision)\n",
        "print('Recall of the Naive Bayes Model: ', recall)\n",
        "conf_matrix = [[true_neg,false_pos],[false_neg,true_pos]]\n",
        "print('The confusion matrix generated is: ', conf_matrix)\n",
        "plot_confusion_matrix(clf,X_test,y_test)"
      ],
      "execution_count": 5,
      "outputs": [
        {
          "output_type": "stream",
          "name": "stdout",
          "text": [
            "Accuracy of the Naive Bayes Model:  94.73684210526315 %\n",
            "Precision of the Naive Bayes Model:  0.9459459459459459\n",
            "Recall of the Naive Bayes Model:  0.9722222222222222\n",
            "The confusion matrix generated is:  [[38, 4], [2, 70]]\n"
          ]
        },
        {
          "output_type": "execute_result",
          "data": {
            "text/plain": [
              "<sklearn.metrics._plot.confusion_matrix.ConfusionMatrixDisplay at 0x7f0b8c60ce10>"
            ]
          },
          "metadata": {},
          "execution_count": 5
        },
        {
          "output_type": "display_data",
          "data": {
            "image/png": "[encoded data removed]",
            "text/plain": [
              "<Figure size 432x288 with 2 Axes>"
            ]
          },
          "metadata": {
            "needs_background": "light"
          }
        }
      ]
    },
    {
      "cell_type": "code",
      "metadata": {
        "colab": {
          "base_uri": "https://localhost:8080/"
        },
        "id": "2ExSLFKEaRZN",
        "outputId": "305297fd-dd5a-4f20-cb6e-71812879715a"
      },
      "source": [
        "dataset = list(X)\n",
        "for i in range(len(dataset)):\n",
        "    dataset[i] = list(dataset[i])\n",
        "    dataset[i].append(y[i])\n",
        "    \n",
        "from random import randrange\n",
        "def partition_data(dataset, ratio):\n",
        "    train_size = int(len(dataset) * ratio)\n",
        "    test_set = list(dataset)\n",
        "    train_set = []\n",
        "    \n",
        "    while len(train_set) < train_size:\n",
        "        index = randrange(len(test_set))\n",
        "        train_set.append(test_set.pop(index))\n",
        "        \n",
        "    return [train_set, test_set]\n",
        "\n",
        "train_set, test_set = partition_data(dataset, 0.67)\n",
        "print('Split total data ({0} rows) into training set ({1} rows) and testing set ({2} rows)'.format(len(dataset), len(train_set), len(test_set)))"
      ],
      "execution_count": 6,
      "outputs": [
        {
          "output_type": "stream",
          "name": "stdout",
          "text": [
            "Split total data (569 rows) into training set (381 rows) and testing set (188 rows)\n"
          ]
        }
      ]
    },
    {
      "cell_type": "code",
      "metadata": {
        "colab": {
          "base_uri": "https://localhost:8080/"
        },
        "id": "v98KYQ-qaRZP",
        "outputId": "5097644e-eec7-4ccb-9efc-7f0864e5ce8a"
      },
      "source": [
        "def group_by_class(dataset):\n",
        "    klass_map = {}\n",
        "    for el in dataset:\n",
        "        klass = int(el[-1])\n",
        "        if klass not in klass_map:\n",
        "            klass_map[klass] = []\n",
        "        klass_map[klass].append(el[:-1])\n",
        "    return klass_map\n",
        "\n",
        "classified_set = group_by_class(train_set)\n",
        "\n",
        "for klass, data_points in classified_set.items():\n",
        "    print('Class {0} contains {1} data points'.format(klass, len(data_points)))"
      ],
      "execution_count": 7,
      "outputs": [
        {
          "output_type": "stream",
          "name": "stdout",
          "text": [
            "Class 1 contains 237 data points\n",
            "Class 0 contains 144 data points\n"
          ]
        }
      ]
    },
    {
      "cell_type": "code",
      "metadata": {
        "id": "Y326iMkhaRZQ"
      },
      "source": [
        "def mean(n):\n",
        "    return sum(n) / float(len(n))\n",
        "\n",
        "def stdev(n):\n",
        "    average = mean(n)\n",
        "    return math.sqrt(sum([pow(x - average, 2) for x in n]) / float(len(n) - 1))"
      ],
      "execution_count": 8,
      "outputs": []
    },
    {
      "cell_type": "code",
      "metadata": {
        "colab": {
          "base_uri": "https://localhost:8080/"
        },
        "id": "FQBO4yr8aRZW",
        "outputId": "bcb70fdb-5cc5-4eca-f421-d4d8a5151daf"
      },
      "source": [
        "import multiprocessing as mp\n",
        "\n",
        "def format_calc(t):\n",
        "    return (mean(t), stdev(t))\n",
        "\n",
        "def prepare_data(dataset):\n",
        "    pool = mp.Pool(mp.cpu_count())\n",
        "    summary = {}\n",
        "    for klass, data_points in dataset.items():\n",
        "        summary[klass] = pool.map(format_calc, zip(*data_points))\n",
        "    pool.close()\n",
        "    pool.join()\n",
        "    return summary\n",
        "\n",
        "summary_set = prepare_data(classified_set)\n",
        "\n",
        "for klass, tupl in summary_set.items():\n",
        "    print('Class {0} contains {1} tuples'.format(klass, len(tupl)))"
      ],
      "execution_count": 9,
      "outputs": [
        {
          "output_type": "stream",
          "name": "stdout",
          "text": [
            "Class 1 contains 30 tuples\n",
            "Class 0 contains 30 tuples\n"
          ]
        }
      ]
    },
    {
      "cell_type": "code",
      "metadata": {
        "id": "GAAqqRf0aRZY"
      },
      "source": [
        "def gauss(x, mean, stdev):\n",
        "    ex = math.exp(-(math.pow(x - mean, 2) / (2 * math.pow(stdev, 2))))\n",
        "    return (1 / (math.sqrt(2 * math.pi) * stdev)) * ex"
      ],
      "execution_count": 10,
      "outputs": []
    },
    {
      "cell_type": "code",
      "metadata": {
        "id": "h_CoW0NgaRZZ"
      },
      "source": [
        "def predict(summary_set, data_point):\n",
        "    probabilities = {}\n",
        "    for klass, summary in summary_set.items():\n",
        "        probabilities[klass] = 1\n",
        "        for i in range(len(summary)):\n",
        "            mean, stdev = summary[i]\n",
        "            probabilities[klass] *= gauss(data_point[i], mean, stdev)\n",
        "    return max(probabilities.keys(), key=(lambda key: probabilities[key]))"
      ],
      "execution_count": 11,
      "outputs": []
    },
    {
      "cell_type": "code",
      "metadata": {
        "colab": {
          "base_uri": "https://localhost:8080/"
        },
        "id": "8ZR33Hs2aRZZ",
        "outputId": "7f2f5e77-7d7c-471e-fb1b-185f0bc7783a"
      },
      "source": [
        "def get_accuracy(summary_set, test_set):\n",
        "    correct_count = 0\n",
        "    for test_point in test_set:\n",
        "        if test_point[-1] == predict(summary_set, test_point):\n",
        "            correct_count += 1\n",
        "    return correct_count / float(len(test_set)) * 100\n",
        "\n",
        "accuracy = get_accuracy(summary_set, test_set)\n",
        "\n",
        "print('The Naive-Bayes Model yields {0}% accuracy'.format(round(accuracy, 2)))"
      ],
      "execution_count": 12,
      "outputs": [
        {
          "output_type": "stream",
          "name": "stdout",
          "text": [
            "The Naive-Bayes Model yields 90.43% accuracy\n"
          ]
        }
      ]
    },
    {
      "cell_type": "code",
      "metadata": {
        "colab": {
          "base_uri": "https://localhost:8080/",
          "height": 371
        },
        "id": "Ib3V4nGUaRZa",
        "outputId": "fe9bd3ed-c5e4-464c-ef7d-c1824ba66fdc"
      },
      "source": [
        "# Calculating model parameters\n",
        "pred = []\n",
        "for test_point in test_set:\n",
        "  pred.append(predict(summary_set,test_point))\n",
        "correct_pred = 0\n",
        "true_pos = 0\n",
        "true_neg = 0\n",
        "false_pos = 0\n",
        "false_neg = 0\n",
        "for i in range(len(pred)):\n",
        "    if pred[i] == test_set[i][-1]:\n",
        "        correct_pred += 1\n",
        "    if pred[i] == 1 and test_set[i][-1] == 1:\n",
        "        true_pos += 1\n",
        "    if pred[i] == 0 and test_set[i][-1] == 0:\n",
        "        true_neg += 1\n",
        "    if pred[i] == 0 and test_set[i][-1] == 1:\n",
        "        false_neg += 1\n",
        "    if pred[i] == 1 and test_set[i][-1] == 0:\n",
        "        false_pos +=1\n",
        "        \n",
        "accuracy = correct_pred/len(test_set)\n",
        "precision = true_pos/(true_pos + false_pos)\n",
        "recall = true_pos/(true_pos + false_neg)\n",
        "\n",
        "print('Accuracy of the Naive Bayes Model: ', accuracy * 100, '%')\n",
        "print('Precision of the Naive Bayes Model: ', precision)\n",
        "print('Recall of the Naive Bayes Model: ', recall)\n",
        "conf_matrix = [[true_neg,false_pos],[false_neg,true_pos]]\n",
        "print('The confusion matrix generated is: ', conf_matrix)\n",
        "plot_confusion_matrix(clf,X_test,y_test)"
      ],
      "execution_count": 13,
      "outputs": [
        {
          "output_type": "stream",
          "name": "stdout",
          "text": [
            "Accuracy of the Naive Bayes Model:  90.42553191489363 %\n",
            "Precision of the Naive Bayes Model:  0.9322033898305084\n",
            "Recall of the Naive Bayes Model:  0.9166666666666666\n",
            "The confusion matrix generated is:  [[60, 8], [10, 110]]\n"
          ]
        },
        {
          "output_type": "execute_result",
          "data": {
            "text/plain": [
              "<sklearn.metrics._plot.confusion_matrix.ConfusionMatrixDisplay at 0x7f0b7634c690>"
            ]
          },
          "metadata": {},
          "execution_count": 13
        },
        {
          "output_type": "display_data",
          "data": {
            "image/png": "[encoded data removed]",
            "text/plain": [
              "<Figure size 432x288 with 2 Axes>"
            ]
          },
          "metadata": {
            "needs_background": "light"
          }
        }
      ]
    }
  ]
}