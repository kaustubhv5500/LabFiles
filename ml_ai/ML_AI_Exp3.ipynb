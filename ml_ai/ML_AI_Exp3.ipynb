{
 "cells": [
  {
   "cell_type": "markdown",
   "metadata": {},
   "source": [
    "# ML&AI Lab 3 : Candidate Elimination Algorithm\n",
    "<strong>Kaustubh Venkatesh<strong><br>\n",
    "UID : 2018120033<br>"
   ]
  },
  {
   "cell_type": "code",
   "execution_count": 1,
   "metadata": {},
   "outputs": [],
   "source": [
    "import numpy as np\n",
    "import pandas as pd\n",
    "import matplotlib.pyplot as plt"
   ]
  },
  {
   "cell_type": "code",
   "execution_count": 2,
   "metadata": {},
   "outputs": [
    {
     "data": {
      "text/html": [
       "<div>\n",
       "<style scoped>\n",
       "    .dataframe tbody tr th:only-of-type {\n",
       "        vertical-align: middle;\n",
       "    }\n",
       "\n",
       "    .dataframe tbody tr th {\n",
       "        vertical-align: top;\n",
       "    }\n",
       "\n",
       "    .dataframe thead th {\n",
       "        text-align: right;\n",
       "    }\n",
       "</style>\n",
       "<table border=\"1\" class=\"dataframe\">\n",
       "  <thead>\n",
       "    <tr style=\"text-align: right;\">\n",
       "      <th></th>\n",
       "      <th>Sky</th>\n",
       "      <th>AirTemp</th>\n",
       "      <th>Humidity</th>\n",
       "      <th>Wind</th>\n",
       "      <th>Company</th>\n",
       "      <th>Forecast</th>\n",
       "      <th>Sport</th>\n",
       "    </tr>\n",
       "  </thead>\n",
       "  <tbody>\n",
       "    <tr>\n",
       "      <th>0</th>\n",
       "      <td>Sunny</td>\n",
       "      <td>Warm</td>\n",
       "      <td>Normal</td>\n",
       "      <td>Strong</td>\n",
       "      <td>Yes</td>\n",
       "      <td>Same</td>\n",
       "      <td>Yes</td>\n",
       "    </tr>\n",
       "    <tr>\n",
       "      <th>1</th>\n",
       "      <td>Sunny</td>\n",
       "      <td>Warm</td>\n",
       "      <td>High</td>\n",
       "      <td>Strong</td>\n",
       "      <td>Yes</td>\n",
       "      <td>Same</td>\n",
       "      <td>Yes</td>\n",
       "    </tr>\n",
       "    <tr>\n",
       "      <th>2</th>\n",
       "      <td>Rainy</td>\n",
       "      <td>Cold</td>\n",
       "      <td>High</td>\n",
       "      <td>Strong</td>\n",
       "      <td>No</td>\n",
       "      <td>Change</td>\n",
       "      <td>No</td>\n",
       "    </tr>\n",
       "    <tr>\n",
       "      <th>3</th>\n",
       "      <td>Sunny</td>\n",
       "      <td>Warm</td>\n",
       "      <td>High</td>\n",
       "      <td>Strong</td>\n",
       "      <td>Yes</td>\n",
       "      <td>Change</td>\n",
       "      <td>Yes</td>\n",
       "    </tr>\n",
       "    <tr>\n",
       "      <th>4</th>\n",
       "      <td>Rainy</td>\n",
       "      <td>Cold</td>\n",
       "      <td>Normal</td>\n",
       "      <td>Strong</td>\n",
       "      <td>No</td>\n",
       "      <td>Change</td>\n",
       "      <td>No</td>\n",
       "    </tr>\n",
       "  </tbody>\n",
       "</table>\n",
       "</div>"
      ],
      "text/plain": [
       "     Sky AirTemp Humidity    Wind Company Forecast Sport\n",
       "0  Sunny    Warm   Normal  Strong     Yes     Same   Yes\n",
       "1  Sunny    Warm     High  Strong     Yes     Same   Yes\n",
       "2  Rainy    Cold     High  Strong      No   Change    No\n",
       "3  Sunny    Warm     High  Strong     Yes   Change   Yes\n",
       "4  Rainy    Cold   Normal  Strong      No   Change    No"
      ]
     },
     "execution_count": 2,
     "metadata": {},
     "output_type": "execute_result"
    }
   ],
   "source": [
    "# importing dataset from csv\n",
    "data = pd.read_csv('weather.csv')\n",
    "data.head()"
   ]
  },
  {
   "cell_type": "code",
   "execution_count": 3,
   "metadata": {},
   "outputs": [
    {
     "data": {
      "text/plain": [
       "(6, 7)"
      ]
     },
     "execution_count": 3,
     "metadata": {},
     "output_type": "execute_result"
    }
   ],
   "source": [
    "data.shape"
   ]
  },
  {
   "cell_type": "code",
   "execution_count": 4,
   "metadata": {},
   "outputs": [],
   "source": [
    "from sklearn import preprocessing\n",
    "label_encoder = preprocessing.LabelEncoder()\n",
    "data['Sport']= label_encoder.fit_transform(data['Sport'])"
   ]
  },
  {
   "cell_type": "code",
   "execution_count": 5,
   "metadata": {},
   "outputs": [],
   "source": [
    "data = data.to_numpy()\n",
    "num_attributes = data.shape[1] - 1"
   ]
  },
  {
   "cell_type": "code",
   "execution_count": 6,
   "metadata": {},
   "outputs": [
    {
     "name": "stdout",
     "output_type": "stream",
     "text": [
      "The initial value of specific hypothesis: [0, 0, 0, 0, 0, 0]\n",
      "The initial value of general hypothesis: [['?', '?', '?', '?', '?', '?']]\n"
     ]
    }
   ],
   "source": [
    "# Initial value of hypothesis\n",
    "G = [['?'] * num_attributes]\n",
    "S = [0] * num_attributes\n",
    "print(\"The initial value of specific hypothesis:\",S)\n",
    "print(\"The initial value of general hypothesis:\",G)"
   ]
  },
  {
   "cell_type": "code",
   "execution_count": 7,
   "metadata": {},
   "outputs": [
    {
     "name": "stdout",
     "output_type": "stream",
     "text": [
      "G:  [['?', '?', '?', '?', '?', '?']]\n",
      "S:  ['Sunny', 'Warm', 'Normal', 'Strong', 'Yes', 'Same'] \n",
      "\n",
      "G:  [['?', '?', '?', '?', '?', '?']]\n",
      "S:  ['Sunny', 'Warm', '?', 'Strong', 'Yes', 'Same'] \n",
      "\n",
      "G:  [['Sunny', '?', '?', '?', '?', '?'], ['?', 'Warm', '?', '?', '?', '?'], ['?', '?', '?', '?', 'Yes', '?'], ['?', '?', '?', '?', '?', 'Same']]\n",
      "S:  ['Sunny', 'Warm', '?', 'Strong', 'Yes', 'Same'] \n",
      "\n",
      "G:  [['Sunny', '?', '?', '?', '?', '?'], ['?', 'Warm', '?', '?', '?', '?'], ['?', '?', '?', '?', 'Yes', '?']]\n",
      "S:  ['Sunny', 'Warm', '?', 'Strong', 'Yes', '?'] \n",
      "\n",
      "G:  [['Sunny', 'Warm', '?', '?', '?', '?'], ['Sunny', '?', '?', '?', 'Yes', '?'], ['Sunny', 'Warm', '?', '?', '?', '?'], ['?', 'Warm', '?', '?', 'Yes', '?'], ['Sunny', '?', '?', '?', 'Yes', '?'], ['?', 'Warm', '?', '?', 'Yes', '?']]\n",
      "S:  ['Sunny', 'Warm', '?', 'Strong', 'Yes', '?'] \n",
      "\n",
      "G:  [['Sunny', 'Warm', '?', '?', '?', '?'], ['Sunny', '?', '?', '?', 'Yes', '?'], ['Sunny', 'Warm', '?', '?', '?', '?'], ['?', 'Warm', '?', '?', 'Yes', '?'], ['Sunny', '?', '?', '?', 'Yes', '?'], ['?', 'Warm', '?', '?', 'Yes', '?']]\n",
      "S:  ['Sunny', 'Warm', '?', '?', 'Yes', '?'] \n",
      "\n"
     ]
    }
   ],
   "source": [
    "# Implementing Candidate Elminination Algorithm\n",
    "for row in data:\n",
    "    if row[-1] == 1:\n",
    "        for i in range(len(row) - 1):\n",
    "            if S[i] == 0:\n",
    "                S[i] = row[i]\n",
    "            elif S[i] != '?' and S[i] != row[i]:\n",
    "                S[i] = '?'\n",
    "    elif row[-1] == 0:\n",
    "        new_g = []\n",
    "        for hypo in G:            \n",
    "            for i in range(len(row) - 1):\n",
    "                if row[i] != S[i] and S[i] != '?' and hypo[i] == '?':\n",
    "                    new_g.append(hypo[:])\n",
    "                    new_g[-1][i] = S[i]    \n",
    "        G = new_g\n",
    "    for i in range(len(S)):\n",
    "        if S[i] == '?':\n",
    "            for hypo in G:\n",
    "                if hypo[i] != '?':\n",
    "                    G.remove(hypo)\n",
    "    print('G: ',G)\n",
    "    print('S: ',S,'\\n')"
   ]
  },
  {
   "cell_type": "code",
   "execution_count": 8,
   "metadata": {},
   "outputs": [
    {
     "name": "stdout",
     "output_type": "stream",
     "text": [
      "Final Specific Hypothesis : ['Sunny', 'Warm', '?', '?', 'Yes', '?']\n",
      "Final General Hypothesis : [['Sunny', 'Warm', '?', '?', '?', '?'], ['Sunny', '?', '?', '?', 'Yes', '?'], ['Sunny', 'Warm', '?', '?', '?', '?'], ['?', 'Warm', '?', '?', 'Yes', '?'], ['Sunny', '?', '?', '?', 'Yes', '?'], ['?', 'Warm', '?', '?', 'Yes', '?']]\n"
     ]
    }
   ],
   "source": [
    "print(\"Final Specific Hypothesis :\",S)\n",
    "print(\"Final General Hypothesis :\",G)"
   ]
  },
  {
   "cell_type": "code",
   "execution_count": 9,
   "metadata": {},
   "outputs": [
    {
     "name": "stdout",
     "output_type": "stream",
     "text": [
      "Version Space :\n",
      "('Sunny', 'Warm', '?', '?', 'Yes', '?')\n"
     ]
    }
   ],
   "source": [
    "ver = set()\n",
    "for hypo in G:\n",
    "    for i in range(len(hypo)):\n",
    "        if hypo[i] == '?' and S[i] != '?':\n",
    "            l = hypo[:]\n",
    "            l[i] = S[i]\n",
    "            ver.add(tuple(l))\n",
    "\n",
    "ver = list(ver)\n",
    "print(\"Version Space :\")\n",
    "for i in ver:\n",
    "    print(i)"
   ]
  },
  {
   "cell_type": "code",
   "execution_count": null,
   "metadata": {},
   "outputs": [],
   "source": []
  }
 ],
 "metadata": {
  "kernelspec": {
   "display_name": "Python 3",
   "language": "python",
   "name": "python3"
  },
  "language_info": {
   "codemirror_mode": {
    "name": "ipython",
    "version": 3
   },
   "file_extension": ".py",
   "mimetype": "text/x-python",
   "name": "python",
   "nbconvert_exporter": "python",
   "pygments_lexer": "ipython3",
   "version": "3.7.3"
  }
 },
 "nbformat": 4,
 "nbformat_minor": 2
}
