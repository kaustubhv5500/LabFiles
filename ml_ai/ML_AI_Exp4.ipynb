{
 "cells": [
  {
   "cell_type": "code",
   "execution_count": 1,
   "metadata": {},
   "outputs": [],
   "source": [
    "# Importing important libraries\n",
    "import pandas as pd\n",
    "from sklearn.tree import DecisionTreeClassifier\n",
    "from sklearn.model_selection import train_test_split \n",
    "from sklearn import metrics\n",
    "import matplotlib.pyplot as plt\n",
    "import numpy as np"
   ]
  },
  {
   "cell_type": "code",
   "execution_count": 2,
   "metadata": {},
   "outputs": [
    {
     "data": {
      "text/html": [
       "<div>\n",
       "<style scoped>\n",
       "    .dataframe tbody tr th:only-of-type {\n",
       "        vertical-align: middle;\n",
       "    }\n",
       "\n",
       "    .dataframe tbody tr th {\n",
       "        vertical-align: top;\n",
       "    }\n",
       "\n",
       "    .dataframe thead th {\n",
       "        text-align: right;\n",
       "    }\n",
       "</style>\n",
       "<table border=\"1\" class=\"dataframe\">\n",
       "  <thead>\n",
       "    <tr style=\"text-align: right;\">\n",
       "      <th></th>\n",
       "      <th>price</th>\n",
       "      <th>maint</th>\n",
       "      <th>comfort</th>\n",
       "      <th>doors</th>\n",
       "      <th>persons</th>\n",
       "      <th>lug_boot</th>\n",
       "      <th>safety</th>\n",
       "    </tr>\n",
       "  </thead>\n",
       "  <tbody>\n",
       "    <tr>\n",
       "      <th>0</th>\n",
       "      <td>vhigh</td>\n",
       "      <td>vhigh</td>\n",
       "      <td>2</td>\n",
       "      <td>2</td>\n",
       "      <td>small</td>\n",
       "      <td>low</td>\n",
       "      <td>unacc</td>\n",
       "    </tr>\n",
       "    <tr>\n",
       "      <th>1</th>\n",
       "      <td>vhigh</td>\n",
       "      <td>vhigh</td>\n",
       "      <td>2</td>\n",
       "      <td>2</td>\n",
       "      <td>small</td>\n",
       "      <td>med</td>\n",
       "      <td>unacc</td>\n",
       "    </tr>\n",
       "    <tr>\n",
       "      <th>2</th>\n",
       "      <td>vhigh</td>\n",
       "      <td>vhigh</td>\n",
       "      <td>2</td>\n",
       "      <td>2</td>\n",
       "      <td>small</td>\n",
       "      <td>high</td>\n",
       "      <td>unacc</td>\n",
       "    </tr>\n",
       "    <tr>\n",
       "      <th>3</th>\n",
       "      <td>vhigh</td>\n",
       "      <td>med</td>\n",
       "      <td>4</td>\n",
       "      <td>4</td>\n",
       "      <td>big</td>\n",
       "      <td>med</td>\n",
       "      <td>acc</td>\n",
       "    </tr>\n",
       "    <tr>\n",
       "      <th>4</th>\n",
       "      <td>vhigh</td>\n",
       "      <td>med</td>\n",
       "      <td>4</td>\n",
       "      <td>4</td>\n",
       "      <td>big</td>\n",
       "      <td>high</td>\n",
       "      <td>acc</td>\n",
       "    </tr>\n",
       "  </tbody>\n",
       "</table>\n",
       "</div>"
      ],
      "text/plain": [
       "   price  maint comfort doors persons lug_boot safety\n",
       "0  vhigh  vhigh       2     2   small      low  unacc\n",
       "1  vhigh  vhigh       2     2   small      med  unacc\n",
       "2  vhigh  vhigh       2     2   small     high  unacc\n",
       "3  vhigh    med       4     4     big      med    acc\n",
       "4  vhigh    med       4     4     big     high    acc"
      ]
     },
     "execution_count": 2,
     "metadata": {},
     "output_type": "execute_result"
    }
   ],
   "source": [
    "cars_data = pd.read_csv('car.csv')\n",
    "cars_data.head()"
   ]
  },
  {
   "cell_type": "code",
   "execution_count": 3,
   "metadata": {},
   "outputs": [
    {
     "data": {
      "text/plain": [
       "safety\n",
       "acc      17\n",
       "unacc    24\n",
       "Name: price, dtype: int64"
      ]
     },
     "execution_count": 3,
     "metadata": {},
     "output_type": "execute_result"
    }
   ],
   "source": [
    "cars_data.groupby(cars_data['safety']).count()['price']"
   ]
  },
  {
   "cell_type": "code",
   "execution_count": 4,
   "metadata": {},
   "outputs": [
    {
     "name": "stdout",
     "output_type": "stream",
     "text": [
      "\n",
      " Total Entropy of Car Safety Data Set: 0.9788698505067785\n"
     ]
    }
   ],
   "source": [
    "def entropy(probs):  \n",
    "    import math\n",
    "    return sum( [-prob * math.log(prob, 2) for prob in probs] )\n",
    "\n",
    "#Function to calulate the entropy of the given Data Sets/List with respect to target attributes\n",
    "def entropy_of_list(a_list):  \n",
    "    from collections import Counter\n",
    "    cnt = Counter(x for x in a_list)   # Counter calculates the propotion of class\n",
    "    num_instances = len(a_list)*1.0   # = 8\n",
    "    probs = [x / num_instances for x in cnt.values()]  # x means no of YES/NO\n",
    "    return entropy(probs) # Call Entropy :\n",
    "\n",
    "total_entropy = entropy_of_list(cars_data['safety'])\n",
    "\n",
    "print(\"\\n Total Entropy of Car Safety Data Set:\",total_entropy)"
   ]
  },
  {
   "cell_type": "code",
   "execution_count": 5,
   "metadata": {},
   "outputs": [],
   "source": [
    "def information_gain(df, split_attribute_name, target_attribute_name, trace=0):\n",
    "    '''\n",
    "    Takes a DataFrame of attributes, and quantifies the entropy of a target\n",
    "    attribute after performing a split along the values of another attribute.\n",
    "    '''\n",
    "    # Split Data by Possible Vals of Attribute:\n",
    "    df_split = df.groupby(split_attribute_name)\n",
    "    # Calculate Entropy for Target Attribute, as well as\n",
    "    # Proportion of Obs in Each Data-Split\n",
    "    nobs = len(df.index) * 1.0\n",
    "    df_agg_ent = df_split.agg({target_attribute_name : [entropy_of_list, lambda x: len(x)/nobs] })[target_attribute_name]\n",
    "    df_agg_ent.columns = ['Entropy', 'PropObservations']\n",
    "    \n",
    "    # Calculate Information Gain:\n",
    "    new_entropy = sum( df_agg_ent['Entropy'] * df_agg_ent['PropObservations'] )\n",
    "    old_entropy = entropy_of_list(df[target_attribute_name])\n",
    "    return old_entropy - new_entropy"
   ]
  },
  {
   "cell_type": "code",
   "execution_count": 6,
   "metadata": {},
   "outputs": [],
   "source": [
    "def id3(df, target_attribute_name, attribute_names, default_class=None):\n",
    "    \n",
    "    ## Tally target attribute:\n",
    "    from collections import Counter\n",
    "    cnt = Counter(x for x in df[target_attribute_name])# class of YES /NO\n",
    "    \n",
    "    ## First check: Is this split of the dataset homogeneous?\n",
    "    if len(cnt) == 1:\n",
    "        return next(iter(cnt))  # next input data set, or raises StopIteration when EOF is hit.\n",
    "    \n",
    "    ## Second check: Is this split of the dataset empty?\n",
    "    # if yes, return a default value\n",
    "    elif df.empty or (not attribute_names):\n",
    "        return default_class  # Return None for Empty Data Set\n",
    "    \n",
    "    ## Otherwise: This dataset is ready to be devied up!\n",
    "    else:\n",
    "        # Get Default Value for next recursive call of this function:\n",
    "        default_class = max(cnt.keys()) #No of YES and NO Class\n",
    "        # Compute the Information Gain of the attributes:\n",
    "        gainz = [information_gain(df, attr, target_attribute_name) for attr in attribute_names] #\n",
    "        index_of_max = gainz.index(max(gainz)) # Index of Best Attribute\n",
    "        # Choose Best Attribute to split on:\n",
    "        best_attr = attribute_names[index_of_max]\n",
    "        \n",
    "        # Create an empty tree, to be populated in a moment\n",
    "        tree = {best_attr:{}} # Iniiate the tree with best attribute as a node \n",
    "        remaining_attribute_names = [i for i in attribute_names if i != best_attr]\n",
    "        \n",
    "        # Split dataset\n",
    "        # On each split, recursively call this algorithm.\n",
    "        # populate the empty tree with subtrees, which\n",
    "        # are the result of the recursive call\n",
    "        for attr_val, data_subset in df.groupby(best_attr):\n",
    "            subtree = id3(data_subset,\n",
    "                        target_attribute_name,\n",
    "                        remaining_attribute_names,\n",
    "                        default_class)\n",
    "            tree[best_attr][attr_val] = subtree\n",
    "        return tree"
   ]
  },
  {
   "cell_type": "code",
   "execution_count": 7,
   "metadata": {},
   "outputs": [
    {
     "name": "stdout",
     "output_type": "stream",
     "text": [
      "List of Attributes: ['price', 'maint', 'comfort', 'doors', 'persons', 'lug_boot', 'safety']\n",
      "Predicting Attributes: ['price', 'maint', 'comfort', 'doors', 'persons', 'lug_boot']\n"
     ]
    }
   ],
   "source": [
    "# Get Predictor Names (all but 'class')\n",
    "attribute_names = list(cars_data.columns)\n",
    "print(\"List of Attributes:\", attribute_names) \n",
    "attribute_names.remove('safety') #Remove the class attribute \n",
    "print(\"Predicting Attributes:\", attribute_names)"
   ]
  },
  {
   "cell_type": "code",
   "execution_count": 8,
   "metadata": {
    "scrolled": false
   },
   "outputs": [
    {
     "name": "stdout",
     "output_type": "stream",
     "text": [
      "The Resultant Decision Tree is :\n",
      "\n",
      "{'lug_boot': {'high': {'doors': {'2': 'unacc',\n",
      "                                 '4': 'acc',\n",
      "                                 'more': {'comfort': {'2': 'unacc',\n",
      "                                                      '3': 'acc',\n",
      "                                                      '4': 'acc'}}}},\n",
      "              'low': 'unacc',\n",
      "              'med': {'persons': {'big': {'doors': {'2': 'unacc',\n",
      "                                                    '4': 'acc',\n",
      "                                                    'more': 'acc'}},\n",
      "                                  'med': {'doors': {'2': 'unacc',\n",
      "                                                    '4': 'acc',\n",
      "                                                    'more': 'acc'}},\n",
      "                                  'small': 'unacc'}}}}\n",
      "Best Attribute :\n",
      " lug_boot\n",
      "Tree Keys:\n",
      " dict_keys(['high', 'low', 'med'])\n"
     ]
    }
   ],
   "source": [
    "# Run Algorithm:\n",
    "from pprint import pprint\n",
    "tree = id3(cars_data,'safety',attribute_names)\n",
    "print(\"The Resultant Decision Tree is :\\n\")\n",
    "pprint(tree)\n",
    "attribute = next(iter(tree))\n",
    "print(\"Best Attribute :\\n\",attribute)\n",
    "print(\"Tree Keys:\\n\",tree[attribute].keys())"
   ]
  },
  {
   "cell_type": "code",
   "execution_count": 9,
   "metadata": {},
   "outputs": [],
   "source": [
    "from sklearn import preprocessing\n",
    "label_encoder = preprocessing.LabelEncoder()\n",
    "cars_data['price']= label_encoder.fit_transform(cars_data['price'])\n",
    "cars_data['maint']= label_encoder.fit_transform(cars_data['maint'])\n",
    "cars_data['comfort']= label_encoder.fit_transform(cars_data['comfort'])\n",
    "cars_data['persons']= label_encoder.fit_transform(cars_data['persons'])\n",
    "cars_data['lug_boot']= label_encoder.fit_transform(cars_data['lug_boot'])\n",
    "cars_data['doors']= label_encoder.fit_transform(cars_data['doors'])\n",
    "cars_data['safety']= label_encoder.fit_transform(cars_data['safety'])"
   ]
  },
  {
   "cell_type": "code",
   "execution_count": 10,
   "metadata": {},
   "outputs": [
    {
     "name": "stdout",
     "output_type": "stream",
     "text": [
      "Accuracy: 0.6153846153846154\n"
     ]
    },
    {
     "data": {
      "text/plain": [
       "<sklearn.metrics._plot.confusion_matrix.ConfusionMatrixDisplay at 0x23447a551d0>"
      ]
     },
     "execution_count": 10,
     "metadata": {},
     "output_type": "execute_result"
    },
    {
     "data": {
      "image/png": "[encoded data removed]",
      "text/plain": [
       "<Figure size 432x288 with 2 Axes>"
      ]
     },
     "metadata": {
      "needs_background": "light"
     },
     "output_type": "display_data"
    }
   ],
   "source": [
    "X = cars_data[['price','maint','comfort','doors','persons','lug_boot']]\n",
    "y = cars_data['safety']\n",
    "# Split dataset into training set and test set\n",
    "X_train, X_test, y_train, y_test = train_test_split(X, y, test_size=0.3, random_state=1) # 70% training and 30% test\n",
    "\n",
    "# Create Decision Tree classifer object\n",
    "clf = DecisionTreeClassifier(criterion=\"entropy\", max_depth=3)\n",
    "\n",
    "# Train Decision Tree Classifer\n",
    "clf = clf.fit(X_train,y_train)\n",
    "\n",
    "#Predict the response for test dataset\n",
    "y_pred = clf.predict(X_test)\n",
    "\n",
    "# Model Accuracy\n",
    "print(\"Accuracy:\",metrics.accuracy_score(y_test, y_pred))\n",
    "confusion_matrix = metrics.confusion_matrix(y_test, y_pred)\n",
    "metrics.plot_confusion_matrix(clf,X_test,y_test)\n"
   ]
  },
  {
   "cell_type": "code",
   "execution_count": 22,
   "metadata": {},
   "outputs": [
    {
     "name": "stdout",
     "output_type": "stream",
     "text": [
      "price  :  [1 0]\n",
      "Entropy of price : 0.5349436990971067\n",
      "Gain of price : 0.44392615140967184 \n",
      "\n",
      "maint  :  [2 1 0]\n",
      "Entropy of maint : 0.6533523081769443\n",
      "Gain of maint : 0.3255175423298342 \n",
      "\n",
      "comfort  :  [0 2 1 3]\n",
      "Entropy of comfort : 1.249363946973598\n",
      "Gain of comfort : 0.27049409646681943 \n",
      "\n",
      "doors  :  [0 1 2]\n",
      "Entropy of doors : 1.5642357041653152\n",
      "Gain of doors : 0.5853658536585367 \n",
      "\n",
      "persons  :  [2 0 1]\n",
      "Entropy of persons : 1.5707113784408682\n",
      "Gain of persons : 0.5918415279340896 \n",
      "\n",
      "lug_boot  :  [1 2 0]\n",
      "Entropy of lug_boot : 1.574008923045204\n",
      "Gain of lug_boot : 0.5951390725384254 \n",
      "\n",
      "safety  :  [1 0]\n",
      "Entropy of safety : 0.9788698505067785\n",
      "Gain of safety : 0.0 \n",
      "\n"
     ]
    }
   ],
   "source": [
    "for i in cars_data.columns:\n",
    "    print(i,' : ',cars_data[i].unique())\n",
    "    print('Entropy of',i,':',entropy_of_list(cars_data[i]))\n",
    "    print('Gain of',i,':',abs(total_entropy-entropy_of_list(cars_data[i])),'\\n')"
   ]
  },
  {
   "cell_type": "code",
   "execution_count": 34,
   "metadata": {},
   "outputs": [],
   "source": [
    "# Thus, main attribute is lug_boot\n",
    "cars_data = pd.read_csv('car.csv')\n",
    "cars_mid = cars_data.loc[cars_data['lug_boot'] == 'med']\n",
    "cars_low = cars_data.loc[cars_data['lug_boot'] == 'low']\n",
    "cars_high = cars_data.loc[cars_data['lug_boot'] == 'high']"
   ]
  },
  {
   "cell_type": "code",
   "execution_count": 39,
   "metadata": {},
   "outputs": [
    {
     "name": "stdout",
     "output_type": "stream",
     "text": [
      "price  :  ['vhigh' 'high']\n",
      "Entropy of price : 0.6193821946787638\n",
      "Gain of price : 0.3594876558280148 \n",
      "\n",
      "maint  :  ['vhigh' 'med' 'low']\n",
      "Entropy of maint : 0.7732283485249176\n",
      "Gain of maint : 0.20564150198186093 \n",
      "\n",
      "comfort  :  ['2' '4' '5more']\n",
      "Entropy of comfort : 1.1401156785146092\n",
      "Gain of comfort : 0.1612458280078306 \n",
      "\n",
      "doors  :  ['2' '4' 'more']\n",
      "Entropy of doors : 1.5262349099495227\n",
      "Gain of doors : 0.5473650594427442 \n",
      "\n",
      "persons  :  ['small' 'big' 'med']\n",
      "Entropy of persons : 1.5485806065228545\n",
      "Gain of persons : 0.5697107560160759 \n",
      "\n",
      "lug_boot  :  ['med']\n",
      "Entropy of lug_boot : 0.0\n",
      "Gain of lug_boot : 0.9788698505067785 \n",
      "\n",
      "safety  :  ['unacc' 'acc']\n",
      "Entropy of safety : 0.9957274520849256\n",
      "Gain of safety : 0.016857601578147086 \n",
      "\n"
     ]
    }
   ],
   "source": [
    "for i in cars_mid:\n",
    "    print(i,' : ',cars_mid[i].unique())\n",
    "    print('Entropy of',i,':',entropy_of_list(cars_mid[i]))\n",
    "    print('Gain of',i,':',abs(total_entropy-entropy_of_list(cars_mid[i])),'\\n')"
   ]
  },
  {
   "cell_type": "code",
   "execution_count": 40,
   "metadata": {},
   "outputs": [
    {
     "name": "stdout",
     "output_type": "stream",
     "text": [
      "price  :  ['vhigh' 'high']\n",
      "Entropy of price : 0.5435644431995964\n",
      "Gain of price : 0.43530540730718215 \n",
      "\n",
      "maint  :  ['vhigh' 'med' 'low']\n",
      "Entropy of maint : 0.6685644431995964\n",
      "Gain of maint : 0.31030540730718215 \n",
      "\n",
      "comfort  :  ['2' '4' '3' '5more']\n",
      "Entropy of comfort : 1.4237949406953985\n",
      "Gain of comfort : 0.4449250901886199 \n",
      "\n",
      "doors  :  ['2' '4' 'more']\n",
      "Entropy of doors : 1.5461796919474975\n",
      "Gain of doors : 0.5673098414407189 \n",
      "\n",
      "persons  :  ['small' 'big' 'med']\n",
      "Entropy of persons : 1.5612781244591327\n",
      "Gain of persons : 0.5824082739523542 \n",
      "\n",
      "lug_boot  :  ['high']\n",
      "Entropy of lug_boot : 0.0\n",
      "Gain of lug_boot : 0.9788698505067785 \n",
      "\n",
      "safety  :  ['unacc' 'acc']\n",
      "Entropy of safety : 0.8960382325345575\n",
      "Gain of safety : 0.08283161797222105 \n",
      "\n"
     ]
    }
   ],
   "source": [
    "for i in cars_high:\n",
    "    print(i,' : ',cars_high[i].unique())\n",
    "    print('Entropy of',i,':',entropy_of_list(cars_high[i]))\n",
    "    print('Gain of',i,':',abs(total_entropy-entropy_of_list(cars_high[i])),'\\n')"
   ]
  },
  {
   "cell_type": "code",
   "execution_count": 41,
   "metadata": {},
   "outputs": [
    {
     "name": "stdout",
     "output_type": "stream",
     "text": [
      "price  :  ['vhigh' 'high']\n",
      "Entropy of price : 0.41381685030363374\n",
      "Gain of price : 0.5650530002031449 \n",
      "\n",
      "maint  :  ['vhigh' 'low']\n",
      "Entropy of maint : 0.41381685030363374\n",
      "Gain of maint : 0.5650530002031449 \n",
      "\n",
      "comfort  :  ['2' '4']\n",
      "Entropy of comfort : 0.9182958340544896\n",
      "Gain of comfort : 0.06057401645228899 \n",
      "\n",
      "doors  :  ['2' '4' 'more']\n",
      "Entropy of doors : 1.584962500721156\n",
      "Gain of doors : 0.6060926502143775 \n",
      "\n",
      "persons  :  ['small' 'big' 'med']\n",
      "Entropy of persons : 1.584962500721156\n",
      "Gain of persons : 0.6060926502143775 \n",
      "\n",
      "lug_boot  :  ['low']\n",
      "Entropy of lug_boot : 0.0\n",
      "Gain of lug_boot : 0.9788698505067785 \n",
      "\n",
      "safety  :  ['unacc']\n",
      "Entropy of safety : 0.0\n",
      "Gain of safety : 0.9788698505067785 \n",
      "\n"
     ]
    }
   ],
   "source": [
    "for i in cars_low:\n",
    "    print(i,' : ',cars_low[i].unique())\n",
    "    print('Entropy of',i,':',entropy_of_list(cars_low[i]))\n",
    "    print('Gain of',i,':',abs(total_entropy-entropy_of_list(cars_low[i])),'\\n')"
   ]
  },
  {
   "cell_type": "code",
   "execution_count": null,
   "metadata": {},
   "outputs": [],
   "source": [
    "# For med, persons has highest gain "
   ]
  }
 ],
 "metadata": {
  "kernelspec": {
   "display_name": "Python 3",
   "language": "python",
   "name": "python3"
  },
  "language_info": {
   "codemirror_mode": {
    "name": "ipython",
    "version": 3
   },
   "file_extension": ".py",
   "mimetype": "text/x-python",
   "name": "python",
   "nbconvert_exporter": "python",
   "pygments_lexer": "ipython3",
   "version": "3.7.3"
  }
 },
 "nbformat": 4,
 "nbformat_minor": 2
}
