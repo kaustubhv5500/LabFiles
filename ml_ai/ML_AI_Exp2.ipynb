{
 "cells": [
  {
   "cell_type": "markdown",
   "metadata": {},
   "source": [
    "# ML&AI Lab 2 : Find-S Algorithm for most specific hypothesis\n",
    "<strong>Kaustubh Venkatesh<strong><br>\n",
    "UID : 2018120033<br>"
   ]
  },
  {
   "cell_type": "code",
   "execution_count": 24,
   "metadata": {},
   "outputs": [],
   "source": [
    "import numpy as np\n",
    "import pandas as pd"
   ]
  },
  {
   "cell_type": "code",
   "execution_count": 25,
   "metadata": {},
   "outputs": [
    {
     "data": {
      "text/html": [
       "<div>\n",
       "<style scoped>\n",
       "    .dataframe tbody tr th:only-of-type {\n",
       "        vertical-align: middle;\n",
       "    }\n",
       "\n",
       "    .dataframe tbody tr th {\n",
       "        vertical-align: top;\n",
       "    }\n",
       "\n",
       "    .dataframe thead th {\n",
       "        text-align: right;\n",
       "    }\n",
       "</style>\n",
       "<table border=\"1\" class=\"dataframe\">\n",
       "  <thead>\n",
       "    <tr style=\"text-align: right;\">\n",
       "      <th></th>\n",
       "      <th>Time</th>\n",
       "      <th>Sky</th>\n",
       "      <th>AirTemp</th>\n",
       "      <th>Humidity</th>\n",
       "      <th>Wind</th>\n",
       "      <th>Weather</th>\n",
       "      <th>Company</th>\n",
       "      <th>Forecast</th>\n",
       "      <th>Sport</th>\n",
       "    </tr>\n",
       "  </thead>\n",
       "  <tbody>\n",
       "    <tr>\n",
       "      <th>0</th>\n",
       "      <td>Morning</td>\n",
       "      <td>sunny</td>\n",
       "      <td>warm</td>\n",
       "      <td>normal</td>\n",
       "      <td>strong</td>\n",
       "      <td>warm</td>\n",
       "      <td>yes</td>\n",
       "      <td>same</td>\n",
       "      <td>yes</td>\n",
       "    </tr>\n",
       "    <tr>\n",
       "      <th>1</th>\n",
       "      <td>Morning</td>\n",
       "      <td>sunny</td>\n",
       "      <td>warm</td>\n",
       "      <td>high</td>\n",
       "      <td>strong</td>\n",
       "      <td>cool</td>\n",
       "      <td>no</td>\n",
       "      <td>same</td>\n",
       "      <td>yes</td>\n",
       "    </tr>\n",
       "    <tr>\n",
       "      <th>2</th>\n",
       "      <td>Evening</td>\n",
       "      <td>rainy</td>\n",
       "      <td>cold</td>\n",
       "      <td>high</td>\n",
       "      <td>mild</td>\n",
       "      <td>warm</td>\n",
       "      <td>yes</td>\n",
       "      <td>change</td>\n",
       "      <td>no</td>\n",
       "    </tr>\n",
       "    <tr>\n",
       "      <th>3</th>\n",
       "      <td>Morning</td>\n",
       "      <td>sunny</td>\n",
       "      <td>warm</td>\n",
       "      <td>high</td>\n",
       "      <td>mild</td>\n",
       "      <td>cool</td>\n",
       "      <td>yes</td>\n",
       "      <td>same</td>\n",
       "      <td>yes</td>\n",
       "    </tr>\n",
       "    <tr>\n",
       "      <th>4</th>\n",
       "      <td>Morning</td>\n",
       "      <td>rainy</td>\n",
       "      <td>cold</td>\n",
       "      <td>normal</td>\n",
       "      <td>mild</td>\n",
       "      <td>warm</td>\n",
       "      <td>yes</td>\n",
       "      <td>same</td>\n",
       "      <td>yes</td>\n",
       "    </tr>\n",
       "  </tbody>\n",
       "</table>\n",
       "</div>"
      ],
      "text/plain": [
       "      Time    Sky AirTemp Humidity    Wind Weather Company Forecast Sport\n",
       "0  Morning  sunny    warm   normal  strong    warm     yes     same   yes\n",
       "1  Morning  sunny    warm     high  strong    cool      no     same   yes\n",
       "2  Evening  rainy    cold     high    mild    warm     yes   change    no\n",
       "3  Morning  sunny    warm     high    mild    cool     yes     same   yes\n",
       "4  Morning  rainy    cold   normal    mild    warm     yes     same   yes"
      ]
     },
     "execution_count": 25,
     "metadata": {},
     "output_type": "execute_result"
    }
   ],
   "source": [
    "# importing dataset from csv\n",
    "data = pd.read_csv('weather.csv')\n",
    "data.head()"
   ]
  },
  {
   "cell_type": "code",
   "execution_count": 26,
   "metadata": {},
   "outputs": [
    {
     "data": {
      "text/plain": [
       "(10, 9)"
      ]
     },
     "execution_count": 26,
     "metadata": {},
     "output_type": "execute_result"
    }
   ],
   "source": [
    "data.shape"
   ]
  },
  {
   "cell_type": "code",
   "execution_count": 27,
   "metadata": {},
   "outputs": [],
   "source": [
    "from sklearn import preprocessing\n",
    "label_encoder = preprocessing.LabelEncoder()\n",
    "data['Sport']= label_encoder.fit_transform(data['Sport'])"
   ]
  },
  {
   "cell_type": "code",
   "execution_count": 28,
   "metadata": {},
   "outputs": [],
   "source": [
    "data = data.to_numpy()\n",
    "num_attributes = data.shape[1] - 1"
   ]
  },
  {
   "cell_type": "code",
   "execution_count": 29,
   "metadata": {},
   "outputs": [
    {
     "name": "stdout",
     "output_type": "stream",
     "text": [
      "The initial value of hypothesis: ['0', '0', '0', '0', '0', '0', '0', '0']\n"
     ]
    }
   ],
   "source": [
    "# Initial value of hypothesis\n",
    "hypothesis = ['0'] * num_attributes\n",
    "print(\"The initial value of hypothesis:\",hypothesis)"
   ]
  },
  {
   "cell_type": "code",
   "execution_count": 30,
   "metadata": {},
   "outputs": [
    {
     "name": "stdout",
     "output_type": "stream",
     "text": [
      "\n",
      " Find S: Finding a Maximally Specific Hypothesis\n",
      "\n",
      " For Training instance No: 0 the hypothesis is  ['Morning', 'sunny', 'warm', 'normal', 'strong', 'warm', 'yes', 'same']\n",
      " For Training instance No: 1 the hypothesis is  ['Morning', 'sunny', 'warm', '?', 'strong', '?', '?', 'same']\n",
      " For Training instance No: 2 the hypothesis is  ['Morning', 'sunny', 'warm', '?', 'strong', '?', '?', 'same']\n",
      " For Training instance No: 3 the hypothesis is  ['Morning', 'sunny', 'warm', '?', '?', '?', '?', 'same']\n",
      " For Training instance No: 4 the hypothesis is  ['Morning', '?', '?', '?', '?', '?', '?', 'same']\n",
      " For Training instance No: 5 the hypothesis is  ['Morning', '?', '?', '?', '?', '?', '?', 'same']\n",
      " For Training instance No: 6 the hypothesis is  ['Morning', '?', '?', '?', '?', '?', '?', 'same']\n",
      " For Training instance No: 7 the hypothesis is  ['Morning', '?', '?', '?', '?', '?', '?', 'same']\n",
      " For Training instance No: 8 the hypothesis is  ['Morning', '?', '?', '?', '?', '?', '?', 'same']\n",
      " For Training instance No: 9 the hypothesis is  ['?', '?', '?', '?', '?', '?', '?', '?']\n"
     ]
    }
   ],
   "source": [
    "for j in range(0,num_attributes):\n",
    "    hypothesis[j] = data[0][j];\n",
    "print(\"\\n Find S: Finding a Maximally Specific Hypothesis\\n\")\n",
    "for i in range(0,len(data)):\n",
    "    if data[i][num_attributes] == 1:\n",
    "        for j in range(0,num_attributes):\n",
    "            if data[i][j]!= hypothesis[j]:\n",
    "                hypothesis[j] = '?'\n",
    "            else :\n",
    "                hypothesis[j]= data[i][j]\n",
    "    print(\" For Training instance No: {0} the hypothesis is \".format(i),hypothesis)"
   ]
  },
  {
   "cell_type": "code",
   "execution_count": 31,
   "metadata": {},
   "outputs": [
    {
     "name": "stdout",
     "output_type": "stream",
     "text": [
      "\n",
      " The Maximally Specific Hypothesis for a given Training Examples : ['?', '?', '?', '?', '?', '?', '?', '?']\n"
     ]
    }
   ],
   "source": [
    "# Printing the final specific hypothesis after training\n",
    "print(\"\\n The Maximally Specific Hypothesis for a given Training Examples :\", hypothesis)"
   ]
  },
  {
   "cell_type": "code",
   "execution_count": null,
   "metadata": {},
   "outputs": [],
   "source": []
  },
  {
   "cell_type": "code",
   "execution_count": null,
   "metadata": {},
   "outputs": [],
   "source": []
  }
 ],
 "metadata": {
  "kernelspec": {
   "display_name": "Python 3",
   "language": "python",
   "name": "python3"
  },
  "language_info": {
   "codemirror_mode": {
    "name": "ipython",
    "version": 3
   },
   "file_extension": ".py",
   "mimetype": "text/x-python",
   "name": "python",
   "nbconvert_exporter": "python",
   "pygments_lexer": "ipython3",
   "version": "3.7.3"
  }
 },
 "nbformat": 4,
 "nbformat_minor": 2
}
