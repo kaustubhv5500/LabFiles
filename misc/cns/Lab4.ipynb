{
  "cells": [
    {
      "cell_type": "code",
      "execution_count": 2,
      "metadata": {
        "colab": {
          "base_uri": "https://localhost:8080/"
        },
        "id": "3FORyjoaUUK6",
        "outputId": "adac5ae4-861a-4da9-eda4-8a618b7f40dc"
      },
      "outputs": [
        {
          "name": "stdout",
          "output_type": "stream",
          "text": [
            "Collecting cryptography\n",
            "  Downloading cryptography-3.4.8-cp36-abi3-manylinux_2_24_x86_64.whl (3.0 MB)\n",
            "\u001b[K     |████████████████████████████████| 3.0 MB 5.0 MB/s \n",
            "\u001b[?25hRequirement already satisfied: cffi>=1.12 in /usr/local/lib/python3.7/dist-packages (from cryptography) (1.14.6)\n",
            "Requirement already satisfied: pycparser in /usr/local/lib/python3.7/dist-packages (from cffi>=1.12->cryptography) (2.20)\n",
            "Installing collected packages: cryptography\n",
            "Successfully installed cryptography-3.4.8\n",
            "Collecting pycrypto\n",
            "  Downloading pycrypto-2.6.1.tar.gz (446 kB)\n",
            "\u001b[K     |████████████████████████████████| 446 kB 5.2 MB/s \n",
            "\u001b[?25hBuilding wheels for collected packages: pycrypto\n",
            "  Building wheel for pycrypto (setup.py) ... \u001b[?25l\u001b[?25hdone\n",
            "  Created wheel for pycrypto: filename=pycrypto-2.6.1-cp37-cp37m-linux_x86_64.whl size=499932 sha256=898684ac59689514cea93a2bf14c2d1aec1fe97965d36b5a53ffbaef25459e1c\n",
            "  Stored in directory: /root/.cache/pip/wheels/cf/85/ba/bbd7c96add459de7598fb424e5ff2309baf2095c844ac0f191\n",
            "Successfully built pycrypto\n",
            "Installing collected packages: pycrypto\n",
            "Successfully installed pycrypto-2.6.1\n"
          ]
        },
        {
          "data": {
            "text/plain": [
              "b'\\xec\\xc2\\x9e\\xd9] a\\xd0'"
            ]
          },
          "execution_count": 2,
          "metadata": {},
          "output_type": "execute_result"
        }
      ],
      "source": [
        "!sudo pip install cryptography\n",
        "!sudo pip install pycrypto"
      ]
    },
    {
      "cell_type": "code",
      "execution_count": 3,
      "metadata": {
        "colab": {
          "base_uri": "https://localhost:8080/"
        },
        "id": "donBF2VUUrbm",
        "outputId": "3442ffc3-7660-4a2b-888e-d839aa60506b"
      },
      "outputs": [
        {
          "data": {
            "text/plain": [
              "b'\\xec\\xc2\\x9e\\xd9] a\\xd0'"
            ]
          },
          "execution_count": 3,
          "metadata": {},
          "output_type": "execute_result"
        }
      ],
      "source": [
        "from Crypto.Cipher import DES\n",
        "des = DES.new('01234567', DES.MODE_ECB)\n",
        "text = 'abcdefgh'\n",
        "cipher_text = des.encrypt(text)\n",
        "cipher_text"
      ]
    },
    {
      "cell_type": "code",
      "execution_count": 4,
      "metadata": {
        "colab": {
          "base_uri": "https://localhost:8080/"
        },
        "id": "hrgLt6FeUw25",
        "outputId": "e48b6b41-d198-4206-bff7-49b3576b3e56"
      },
      "outputs": [
        {
          "data": {
            "text/plain": [
              "b'abcdefgh'"
            ]
          },
          "execution_count": 4,
          "metadata": {},
          "output_type": "execute_result"
        }
      ],
      "source": [
        "des.decrypt(cipher_text)"
      ]
    },
    {
      "cell_type": "code",
      "execution_count": 5,
      "metadata": {
        "colab": {
          "base_uri": "https://localhost:8080/"
        },
        "id": "hrIIYpQxUz42",
        "outputId": "bbdec930-97d5-46a3-dc52-25ad7c6608ae"
      },
      "outputs": [
        {
          "data": {
            "text/plain": [
              "b'\\xf1B\\xa4Q\\xf0\\x00\\xf9o`q\\xfd(\\x81\\xe1\\xcf\\xe2'"
            ]
          },
          "execution_count": 5,
          "metadata": {},
          "output_type": "execute_result"
        }
      ],
      "source": [
        "from Crypto.Cipher import DES\n",
        "from Crypto import Random\n",
        "iv = Random.get_random_bytes(8)\n",
        "des1 = DES.new('01234567', DES.MODE_CFB, iv)\n",
        "des2 = DES.new('01234567', DES.MODE_CFB, iv)\n",
        "text = 'abcdefghijklmnop'\n",
        "cipher_text = des1.encrypt(text)\n",
        "cipher_text"
      ]
    },
    {
      "cell_type": "code",
      "execution_count": 6,
      "metadata": {
        "colab": {
          "base_uri": "https://localhost:8080/"
        },
        "id": "QMB1DbeiU6c-",
        "outputId": "dea1531c-37cf-4d43-9c20-ac297072ada8"
      },
      "outputs": [
        {
          "data": {
            "text/plain": [
              "b'abcdefghijklmnop'"
            ]
          },
          "execution_count": 6,
          "metadata": {},
          "output_type": "execute_result"
        }
      ],
      "source": [
        "des2.decrypt(cipher_text)"
      ]
    },
    {
      "cell_type": "code",
      "execution_count": 8,
      "metadata": {
        "colab": {
          "base_uri": "https://localhost:8080/"
        },
        "id": "PLgyiYr-U-3U",
        "outputId": "fb5955a9-806c-474b-84b3-3c751c5a1c8e"
      },
      "outputs": [
        {
          "data": {
            "text/plain": [
              "b'\\xf0\\xb7\\x90{#ABXY9\\xd06\\x9f\\xc0\\x8c '"
            ]
          },
          "execution_count": 8,
          "metadata": {},
          "output_type": "execute_result"
        }
      ],
      "source": [
        "from Crypto.Cipher import ARC4\n",
        "obj1 = ARC4.new('01234567')\n",
        "obj2 = ARC4.new('01234567')\n",
        "text = 'abcdefghijklmnop'\n",
        "cipher_text = obj1.encrypt(text)\n",
        "cipher_text"
      ]
    },
    {
      "cell_type": "code",
      "execution_count": 9,
      "metadata": {
        "colab": {
          "base_uri": "https://localhost:8080/"
        },
        "id": "hI9lxnWIVGAJ",
        "outputId": "85ebae0d-c220-4d4a-c06c-f37b1d9e52fc"
      },
      "outputs": [
        {
          "data": {
            "text/plain": [
              "b'abcdefghijklmnop'"
            ]
          },
          "execution_count": 9,
          "metadata": {},
          "output_type": "execute_result"
        }
      ],
      "source": [
        "obj2.decrypt(cipher_text)\n"
      ]
    },
    {
      "cell_type": "code",
      "execution_count": 10,
      "metadata": {
        "colab": {
          "base_uri": "https://localhost:8080/"
        },
        "id": "-IZf_arhVLFS",
        "outputId": "964f98d9-7681-462e-efdd-495fa3d161cd"
      },
      "outputs": [
        {
          "data": {
            "text/plain": [
              "<_RSAobj @0x7fc7ae1d6fd0 n(1024),e,d,p,q,u,private>"
            ]
          },
          "execution_count": 10,
          "metadata": {},
          "output_type": "execute_result"
        }
      ],
      "source": [
        "from Crypto.PublicKey import RSA\n",
        "from Crypto import Random\n",
        "random_generator = Random.new().read\n",
        "key = RSA.generate(1024, random_generator)\n",
        "key\n"
      ]
    },
    {
      "cell_type": "code",
      "execution_count": 11,
      "metadata": {
        "colab": {
          "base_uri": "https://localhost:8080/"
        },
        "id": "UpN1y0l6VNE8",
        "outputId": "d07c070f-8622-4cc6-887c-51378801bfb1"
      },
      "outputs": [
        {
          "data": {
            "text/plain": [
              "True"
            ]
          },
          "execution_count": 11,
          "metadata": {},
          "output_type": "execute_result"
        }
      ],
      "source": [
        "key.can_encrypt()"
      ]
    },
    {
      "cell_type": "code",
      "execution_count": 12,
      "metadata": {
        "colab": {
          "base_uri": "https://localhost:8080/"
        },
        "id": "xb2rBJTzVRPw",
        "outputId": "602768f5-2c09-4ff8-b41f-cc1c2b5c861b"
      },
      "outputs": [
        {
          "data": {
            "text/plain": [
              "True"
            ]
          },
          "execution_count": 12,
          "metadata": {},
          "output_type": "execute_result"
        }
      ],
      "source": [
        "key.can_sign()"
      ]
    },
    {
      "cell_type": "code",
      "execution_count": 13,
      "metadata": {
        "colab": {
          "base_uri": "https://localhost:8080/"
        },
        "id": "yZgB6ZfKVTLY",
        "outputId": "79ccf607-fead-4658-d7e1-8eaad908a065"
      },
      "outputs": [
        {
          "data": {
            "text/plain": [
              "True"
            ]
          },
          "execution_count": 13,
          "metadata": {},
          "output_type": "execute_result"
        }
      ],
      "source": [
        "key.has_private()"
      ]
    },
    {
      "cell_type": "code",
      "execution_count": 16,
      "metadata": {
        "colab": {
          "base_uri": "https://localhost:8080/"
        },
        "id": "kT9LtMhJVtwS",
        "outputId": "9ae1a0c5-c689-4710-97f6-81f1f77fd9e0"
      },
      "outputs": [
        {
          "data": {
            "text/plain": [
              "(b\"\\xbc\\x0e\\xf1\\x14\\xdb\\x013Npk_\\x1db\\x1a\\x7fGJ@9\\xf4U\\x93\\xa1-\\xf9\\x9c&\\x08\\x85\\xb7\\xed'\\xe6\\xf7\\xf7\\xa5g\\x9dw\\xd5\\xe4\\x0c\\xfe\\x82\\xc0\\r\\xc9E\\x1dC\\tr\\xeb\\x8f\\x84\\xb4\\xd5\\xde{s\\x94\\xf2R\\x19\\x15f:\\xa4\\x98\\x81O\\x18\\xea\\xf9mc\\xac\\x1f\\xb5\\xff\\x96\\xf9\\xf5\\xed\\xc4\\xa0\\x98\\xe2G9\\xf0]7\\x81yN9\\x17\\x16\\x0fN\\xe9\\xef]\\x9d\\xc8\\x15\\xb3`\\x01\\xf3\\xbc\\x8eo\\xab.v^W\\x1e\\xf2\\xe7\\xa6Hl\\x1a\\xd6\\x02\",)"
            ]
          },
          "execution_count": 16,
          "metadata": {},
          "output_type": "execute_result"
        }
      ],
      "source": [
        "public_key = key.publickey()\n",
        "enc_data = public_key.encrypt(b'abcdefgh', 32)\n",
        "enc_data"
      ]
    },
    {
      "cell_type": "code",
      "execution_count": 17,
      "metadata": {
        "colab": {
          "base_uri": "https://localhost:8080/"
        },
        "id": "g2y7YznVV7eh",
        "outputId": "f805b458-fe17-4603-d717-050bcd874b1e"
      },
      "outputs": [
        {
          "data": {
            "text/plain": [
              "b'abcdefgh'"
            ]
          },
          "execution_count": 17,
          "metadata": {},
          "output_type": "execute_result"
        }
      ],
      "source": [
        "key.decrypt(enc_data)"
      ]
    },
    {
      "cell_type": "code",
      "execution_count": 28,
      "metadata": {
        "colab": {
          "base_uri": "https://localhost:8080/"
        },
        "id": "jIQ9CeKiWAkK",
        "outputId": "0c4bb2ef-73b6-45b0-9811-ce3d7b91fe28"
      },
      "outputs": [
        {
          "data": {
            "text/plain": [
              "b'\\x9cV\\xccQ\\xb3t\\xc3\\xba\\x18\\x92\\x10\\xd5\\xb6\\xd4\\xbfWy\\r5\\x1c\\x96\\xc4|\\x02\\x19\\x0e\\xcf\\x1eC\\x065\\xab'"
            ]
          },
          "execution_count": 28,
          "metadata": {},
          "output_type": "execute_result"
        }
      ],
      "source": [
        "from Crypto.Hash import SHA256\n",
        "from Crypto.PublicKey import RSA\n",
        "from Crypto import Random\n",
        "key = RSA.generate(1024, random_generator)\n",
        "text = b'abcdefgh'\n",
        "hash = SHA256.new(text).digest()\n",
        "hash"
      ]
    },
    {
      "cell_type": "code",
      "execution_count": 29,
      "metadata": {
        "colab": {
          "base_uri": "https://localhost:8080/"
        },
        "id": "whbhEKlqWI8e",
        "outputId": "79392e56-76bc-4c87-b002-010f2cd2a8b5"
      },
      "outputs": [
        {
          "data": {
            "text/plain": [
              "False"
            ]
          },
          "execution_count": 29,
          "metadata": {},
          "output_type": "execute_result"
        }
      ],
      "source": [
        "signature = key.sign(hash, b'')\n",
        "text = b'abcdefgh'\n",
        "hash = SHA256.new(text).digest()\n",
        "public_key.verify(hash, signature)\n"
      ]
    },
    {
      "cell_type": "code",
      "execution_count": 31,
      "metadata": {
        "colab": {
          "base_uri": "https://localhost:8080/",
          "height": 35
        },
        "id": "WSBGKtzHWdQg",
        "outputId": "c22a0466-67ca-4ab9-def1-494d8fdf73b9"
      },
      "outputs": [
        {
          "data": {
            "application/vnd.google.colaboratory.intrinsic+json": {
              "type": "string"
            },
            "text/plain": [
              "'ba7816bf8f01cfea414140de5dae2223b00361a396177a9cb410ff61f20015ad'"
            ]
          },
          "execution_count": 31,
          "metadata": {},
          "output_type": "execute_result"
        }
      ],
      "source": [
        "from Crypto.Hash import SHA256\n",
        "SHA256.new(b'abc').hexdigest()\n"
      ]
    },
    {
      "cell_type": "code",
      "execution_count": 32,
      "metadata": {
        "id": "YJ74uat8YtdA"
      },
      "outputs": [],
      "source": [
        "from Crypto.Hash  import  SHA256\n",
        "def  check_password(clear_password, password_hash):\n",
        "  return  SHA256.new(clear_password).hexdigest()  ==  password_hash\n"
      ]
    },
    {
      "cell_type": "code",
      "execution_count": 39,
      "metadata": {
        "id": "1ia7kF7RY0wC"
      },
      "outputs": [],
      "source": [
        "import  os\n",
        "from  Crypto.Hash  import  MD5\n",
        "def  get_file_checksum(filename):\n",
        "  h  =  MD5.new()\n",
        "  chunk_size  =  8192\n",
        "  with open(filename, 'rb') as f:\n",
        "    while  True:\n",
        "      chunk  =  f.read(chunk_size)\n",
        "      if len(chunk)==0:\n",
        "        break\n",
        "      h.update(chunk)\n",
        "  return  h.hexdigest()\n"
      ]
    }
  ],
  "metadata": {
    "colab": {
      "name": "CNS Lab4.ipynb",
      "provenance": []
    },
    "interpreter": {
      "hash": "2db524e06e9f5f4ffedc911c917cb75e12dbc923643829bf417064a77eb14d37"
    },
    "kernelspec": {
      "display_name": "Python 3.8.3 64-bit",
      "name": "python3"
    },
    "language_info": {
      "name": "python",
      "version": "3.8.3"
    }
  },
  "nbformat": 4,
  "nbformat_minor": 0
}
